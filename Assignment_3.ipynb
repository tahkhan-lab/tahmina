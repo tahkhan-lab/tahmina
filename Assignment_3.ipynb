{
  "nbformat": 4,
  "nbformat_minor": 0,
  "metadata": {
    "colab": {
      "provenance": [],
      "include_colab_link": true
    },
    "kernelspec": {
      "name": "python3",
      "display_name": "Python 3"
    },
    "language_info": {
      "name": "python"
    }
  },
  "cells": [
    {
      "cell_type": "markdown",
      "metadata": {
        "id": "view-in-github",
        "colab_type": "text"
      },
      "source": [
        "<a href=\"https://colab.research.google.com/github/tahkhan-lab/tahmina/blob/main/Assignment_3.ipynb\" target=\"_parent\"><img src=\"https://colab.research.google.com/assets/colab-badge.svg\" alt=\"Open In Colab\"/></a>"
      ]
    },
    {
      "cell_type": "code",
      "execution_count": null,
      "metadata": {
        "id": "8LZ_g-ohPsaZ",
        "colab": {
          "base_uri": "https://localhost:8080/"
        },
        "outputId": "ab1f9a88-5241-49ce-96e3-0fa803c8e916"
      },
      "outputs": [
        {
          "output_type": "stream",
          "name": "stdout",
          "text": [
            "Requirement already satisfied: contractions in /usr/local/lib/python3.11/dist-packages (0.1.73)\n",
            "Requirement already satisfied: textsearch>=0.0.21 in /usr/local/lib/python3.11/dist-packages (from contractions) (0.0.24)\n",
            "Requirement already satisfied: anyascii in /usr/local/lib/python3.11/dist-packages (from textsearch>=0.0.21->contractions) (0.3.2)\n",
            "Requirement already satisfied: pyahocorasick in /usr/local/lib/python3.11/dist-packages (from textsearch>=0.0.21->contractions) (2.1.0)\n"
          ]
        }
      ],
      "source": [
        "!pip install contractions\n",
        "\n",
        "import pandas as pd\n",
        "import string\n",
        "\n",
        "import re\n",
        "import contractions\n",
        "import nltk\n"
      ]
    },
    {
      "cell_type": "code",
      "source": [
        "df = pd.read_csv('messages.csv')\n",
        "df = df.iloc[:1000]\n",
        "def clean_ling_spam_text(text):\n",
        "    text = contractions.fix(text)                          # Expand contractions\n",
        "    text = text.lower()                                    # Convert to lowercase\n",
        "    text = re.sub(r'http\\S+|www\\S+', '', text)             # Remove URLs\n",
        "    text = re.sub(r'\\S+@\\S+', '', text)                    # Remove email addresses\n",
        "    text = re.sub(r'\\d+', '', text)                        # Remove numbers\n",
        "    text = re.sub(r'[^\\w\\s]', '', text)                    # Remove punctuation\n",
        "    text = re.sub(r'\\s+', ' ', text)                       # Normalize spaces\n",
        "    return text.strip()                                    # Strip leading/trailing spaces\n",
        "\n",
        "# Apply to dataset\n",
        "df['text'] = df['subject'].fillna('') + ' ' + df['message'].fillna('')\n",
        "df['clean_text'] = df['text'].apply(clean_ling_spam_text)\n"
      ],
      "metadata": {
        "id": "K9Gll8LJPva_"
      },
      "execution_count": null,
      "outputs": []
    },
    {
      "cell_type": "code",
      "source": [
        "from sklearn.preprocessing import LabelEncoder\n",
        "from sklearn.model_selection import train_test_split\n",
        "\n",
        "\n",
        "label_encoder = LabelEncoder()\n",
        "Y = label_encoder.fit_transform(df['label'])\n",
        "X_train, X_test, y_train, y_test = train_test_split( df['clean_text'], Y,  test_size=0.2, random_state=42)\n"
      ],
      "metadata": {
        "id": "uoIOFpl6kV-O"
      },
      "execution_count": null,
      "outputs": []
    },
    {
      "cell_type": "code",
      "source": [
        "!pip install tensorflow-text==2.18.0\n",
        "!pip install tensorflow==2.18.0 --upgrade\n"
      ],
      "metadata": {
        "colab": {
          "base_uri": "https://localhost:8080/"
        },
        "id": "o-IoxzlsoBaA",
        "outputId": "e6c6954e-483e-40e1-b18c-7e1907d78345"
      },
      "execution_count": null,
      "outputs": [
        {
          "output_type": "stream",
          "name": "stdout",
          "text": [
            "Requirement already satisfied: tensorflow-text==2.18.0 in /usr/local/lib/python3.11/dist-packages (2.18.0)\n",
            "Requirement already satisfied: tensorflow<2.19,>=2.18.0 in /usr/local/lib/python3.11/dist-packages (from tensorflow-text==2.18.0) (2.18.0)\n",
            "Requirement already satisfied: absl-py>=1.0.0 in /usr/local/lib/python3.11/dist-packages (from tensorflow<2.19,>=2.18.0->tensorflow-text==2.18.0) (1.4.0)\n",
            "Requirement already satisfied: astunparse>=1.6.0 in /usr/local/lib/python3.11/dist-packages (from tensorflow<2.19,>=2.18.0->tensorflow-text==2.18.0) (1.6.3)\n",
            "Requirement already satisfied: flatbuffers>=24.3.25 in /usr/local/lib/python3.11/dist-packages (from tensorflow<2.19,>=2.18.0->tensorflow-text==2.18.0) (25.2.10)\n",
            "Requirement already satisfied: gast!=0.5.0,!=0.5.1,!=0.5.2,>=0.2.1 in /usr/local/lib/python3.11/dist-packages (from tensorflow<2.19,>=2.18.0->tensorflow-text==2.18.0) (0.6.0)\n",
            "Requirement already satisfied: google-pasta>=0.1.1 in /usr/local/lib/python3.11/dist-packages (from tensorflow<2.19,>=2.18.0->tensorflow-text==2.18.0) (0.2.0)\n",
            "Requirement already satisfied: libclang>=13.0.0 in /usr/local/lib/python3.11/dist-packages (from tensorflow<2.19,>=2.18.0->tensorflow-text==2.18.0) (18.1.1)\n",
            "Requirement already satisfied: opt-einsum>=2.3.2 in /usr/local/lib/python3.11/dist-packages (from tensorflow<2.19,>=2.18.0->tensorflow-text==2.18.0) (3.4.0)\n",
            "Requirement already satisfied: packaging in /usr/local/lib/python3.11/dist-packages (from tensorflow<2.19,>=2.18.0->tensorflow-text==2.18.0) (24.2)\n",
            "Requirement already satisfied: protobuf!=4.21.0,!=4.21.1,!=4.21.2,!=4.21.3,!=4.21.4,!=4.21.5,<6.0.0dev,>=3.20.3 in /usr/local/lib/python3.11/dist-packages (from tensorflow<2.19,>=2.18.0->tensorflow-text==2.18.0) (5.29.5)\n",
            "Requirement already satisfied: requests<3,>=2.21.0 in /usr/local/lib/python3.11/dist-packages (from tensorflow<2.19,>=2.18.0->tensorflow-text==2.18.0) (2.32.3)\n",
            "Requirement already satisfied: setuptools in /usr/local/lib/python3.11/dist-packages (from tensorflow<2.19,>=2.18.0->tensorflow-text==2.18.0) (75.2.0)\n",
            "Requirement already satisfied: six>=1.12.0 in /usr/local/lib/python3.11/dist-packages (from tensorflow<2.19,>=2.18.0->tensorflow-text==2.18.0) (1.17.0)\n",
            "Requirement already satisfied: termcolor>=1.1.0 in /usr/local/lib/python3.11/dist-packages (from tensorflow<2.19,>=2.18.0->tensorflow-text==2.18.0) (3.1.0)\n",
            "Requirement already satisfied: typing-extensions>=3.6.6 in /usr/local/lib/python3.11/dist-packages (from tensorflow<2.19,>=2.18.0->tensorflow-text==2.18.0) (4.14.0)\n",
            "Requirement already satisfied: wrapt>=1.11.0 in /usr/local/lib/python3.11/dist-packages (from tensorflow<2.19,>=2.18.0->tensorflow-text==2.18.0) (1.17.2)\n",
            "Requirement already satisfied: grpcio<2.0,>=1.24.3 in /usr/local/lib/python3.11/dist-packages (from tensorflow<2.19,>=2.18.0->tensorflow-text==2.18.0) (1.72.1)\n",
            "Requirement already satisfied: tensorboard<2.19,>=2.18 in /usr/local/lib/python3.11/dist-packages (from tensorflow<2.19,>=2.18.0->tensorflow-text==2.18.0) (2.18.0)\n",
            "Requirement already satisfied: keras>=3.5.0 in /usr/local/lib/python3.11/dist-packages (from tensorflow<2.19,>=2.18.0->tensorflow-text==2.18.0) (3.8.0)\n",
            "Requirement already satisfied: numpy<2.1.0,>=1.26.0 in /usr/local/lib/python3.11/dist-packages (from tensorflow<2.19,>=2.18.0->tensorflow-text==2.18.0) (2.0.2)\n",
            "Requirement already satisfied: h5py>=3.11.0 in /usr/local/lib/python3.11/dist-packages (from tensorflow<2.19,>=2.18.0->tensorflow-text==2.18.0) (3.13.0)\n",
            "Requirement already satisfied: ml-dtypes<0.5.0,>=0.4.0 in /usr/local/lib/python3.11/dist-packages (from tensorflow<2.19,>=2.18.0->tensorflow-text==2.18.0) (0.4.1)\n",
            "Requirement already satisfied: tensorflow-io-gcs-filesystem>=0.23.1 in /usr/local/lib/python3.11/dist-packages (from tensorflow<2.19,>=2.18.0->tensorflow-text==2.18.0) (0.37.1)\n",
            "Requirement already satisfied: wheel<1.0,>=0.23.0 in /usr/local/lib/python3.11/dist-packages (from astunparse>=1.6.0->tensorflow<2.19,>=2.18.0->tensorflow-text==2.18.0) (0.45.1)\n",
            "Requirement already satisfied: rich in /usr/local/lib/python3.11/dist-packages (from keras>=3.5.0->tensorflow<2.19,>=2.18.0->tensorflow-text==2.18.0) (13.9.4)\n",
            "Requirement already satisfied: namex in /usr/local/lib/python3.11/dist-packages (from keras>=3.5.0->tensorflow<2.19,>=2.18.0->tensorflow-text==2.18.0) (0.1.0)\n",
            "Requirement already satisfied: optree in /usr/local/lib/python3.11/dist-packages (from keras>=3.5.0->tensorflow<2.19,>=2.18.0->tensorflow-text==2.18.0) (0.16.0)\n",
            "Requirement already satisfied: charset-normalizer<4,>=2 in /usr/local/lib/python3.11/dist-packages (from requests<3,>=2.21.0->tensorflow<2.19,>=2.18.0->tensorflow-text==2.18.0) (3.4.2)\n",
            "Requirement already satisfied: idna<4,>=2.5 in /usr/local/lib/python3.11/dist-packages (from requests<3,>=2.21.0->tensorflow<2.19,>=2.18.0->tensorflow-text==2.18.0) (3.10)\n",
            "Requirement already satisfied: urllib3<3,>=1.21.1 in /usr/local/lib/python3.11/dist-packages (from requests<3,>=2.21.0->tensorflow<2.19,>=2.18.0->tensorflow-text==2.18.0) (2.4.0)\n",
            "Requirement already satisfied: certifi>=2017.4.17 in /usr/local/lib/python3.11/dist-packages (from requests<3,>=2.21.0->tensorflow<2.19,>=2.18.0->tensorflow-text==2.18.0) (2025.4.26)\n",
            "Requirement already satisfied: markdown>=2.6.8 in /usr/local/lib/python3.11/dist-packages (from tensorboard<2.19,>=2.18->tensorflow<2.19,>=2.18.0->tensorflow-text==2.18.0) (3.8)\n",
            "Requirement already satisfied: tensorboard-data-server<0.8.0,>=0.7.0 in /usr/local/lib/python3.11/dist-packages (from tensorboard<2.19,>=2.18->tensorflow<2.19,>=2.18.0->tensorflow-text==2.18.0) (0.7.2)\n",
            "Requirement already satisfied: werkzeug>=1.0.1 in /usr/local/lib/python3.11/dist-packages (from tensorboard<2.19,>=2.18->tensorflow<2.19,>=2.18.0->tensorflow-text==2.18.0) (3.1.3)\n",
            "Requirement already satisfied: MarkupSafe>=2.1.1 in /usr/local/lib/python3.11/dist-packages (from werkzeug>=1.0.1->tensorboard<2.19,>=2.18->tensorflow<2.19,>=2.18.0->tensorflow-text==2.18.0) (3.0.2)\n",
            "Requirement already satisfied: markdown-it-py>=2.2.0 in /usr/local/lib/python3.11/dist-packages (from rich->keras>=3.5.0->tensorflow<2.19,>=2.18.0->tensorflow-text==2.18.0) (3.0.0)\n",
            "Requirement already satisfied: pygments<3.0.0,>=2.13.0 in /usr/local/lib/python3.11/dist-packages (from rich->keras>=3.5.0->tensorflow<2.19,>=2.18.0->tensorflow-text==2.18.0) (2.19.1)\n",
            "Requirement already satisfied: mdurl~=0.1 in /usr/local/lib/python3.11/dist-packages (from markdown-it-py>=2.2.0->rich->keras>=3.5.0->tensorflow<2.19,>=2.18.0->tensorflow-text==2.18.0) (0.1.2)\n",
            "Requirement already satisfied: tensorflow==2.18.0 in /usr/local/lib/python3.11/dist-packages (2.18.0)\n",
            "Requirement already satisfied: absl-py>=1.0.0 in /usr/local/lib/python3.11/dist-packages (from tensorflow==2.18.0) (1.4.0)\n",
            "Requirement already satisfied: astunparse>=1.6.0 in /usr/local/lib/python3.11/dist-packages (from tensorflow==2.18.0) (1.6.3)\n",
            "Requirement already satisfied: flatbuffers>=24.3.25 in /usr/local/lib/python3.11/dist-packages (from tensorflow==2.18.0) (25.2.10)\n",
            "Requirement already satisfied: gast!=0.5.0,!=0.5.1,!=0.5.2,>=0.2.1 in /usr/local/lib/python3.11/dist-packages (from tensorflow==2.18.0) (0.6.0)\n",
            "Requirement already satisfied: google-pasta>=0.1.1 in /usr/local/lib/python3.11/dist-packages (from tensorflow==2.18.0) (0.2.0)\n",
            "Requirement already satisfied: libclang>=13.0.0 in /usr/local/lib/python3.11/dist-packages (from tensorflow==2.18.0) (18.1.1)\n",
            "Requirement already satisfied: opt-einsum>=2.3.2 in /usr/local/lib/python3.11/dist-packages (from tensorflow==2.18.0) (3.4.0)\n",
            "Requirement already satisfied: packaging in /usr/local/lib/python3.11/dist-packages (from tensorflow==2.18.0) (24.2)\n",
            "Requirement already satisfied: protobuf!=4.21.0,!=4.21.1,!=4.21.2,!=4.21.3,!=4.21.4,!=4.21.5,<6.0.0dev,>=3.20.3 in /usr/local/lib/python3.11/dist-packages (from tensorflow==2.18.0) (5.29.5)\n",
            "Requirement already satisfied: requests<3,>=2.21.0 in /usr/local/lib/python3.11/dist-packages (from tensorflow==2.18.0) (2.32.3)\n",
            "Requirement already satisfied: setuptools in /usr/local/lib/python3.11/dist-packages (from tensorflow==2.18.0) (75.2.0)\n",
            "Requirement already satisfied: six>=1.12.0 in /usr/local/lib/python3.11/dist-packages (from tensorflow==2.18.0) (1.17.0)\n",
            "Requirement already satisfied: termcolor>=1.1.0 in /usr/local/lib/python3.11/dist-packages (from tensorflow==2.18.0) (3.1.0)\n",
            "Requirement already satisfied: typing-extensions>=3.6.6 in /usr/local/lib/python3.11/dist-packages (from tensorflow==2.18.0) (4.14.0)\n",
            "Requirement already satisfied: wrapt>=1.11.0 in /usr/local/lib/python3.11/dist-packages (from tensorflow==2.18.0) (1.17.2)\n",
            "Requirement already satisfied: grpcio<2.0,>=1.24.3 in /usr/local/lib/python3.11/dist-packages (from tensorflow==2.18.0) (1.72.1)\n",
            "Requirement already satisfied: tensorboard<2.19,>=2.18 in /usr/local/lib/python3.11/dist-packages (from tensorflow==2.18.0) (2.18.0)\n",
            "Requirement already satisfied: keras>=3.5.0 in /usr/local/lib/python3.11/dist-packages (from tensorflow==2.18.0) (3.8.0)\n",
            "Requirement already satisfied: numpy<2.1.0,>=1.26.0 in /usr/local/lib/python3.11/dist-packages (from tensorflow==2.18.0) (2.0.2)\n",
            "Requirement already satisfied: h5py>=3.11.0 in /usr/local/lib/python3.11/dist-packages (from tensorflow==2.18.0) (3.13.0)\n",
            "Requirement already satisfied: ml-dtypes<0.5.0,>=0.4.0 in /usr/local/lib/python3.11/dist-packages (from tensorflow==2.18.0) (0.4.1)\n",
            "Requirement already satisfied: tensorflow-io-gcs-filesystem>=0.23.1 in /usr/local/lib/python3.11/dist-packages (from tensorflow==2.18.0) (0.37.1)\n",
            "Requirement already satisfied: wheel<1.0,>=0.23.0 in /usr/local/lib/python3.11/dist-packages (from astunparse>=1.6.0->tensorflow==2.18.0) (0.45.1)\n",
            "Requirement already satisfied: rich in /usr/local/lib/python3.11/dist-packages (from keras>=3.5.0->tensorflow==2.18.0) (13.9.4)\n",
            "Requirement already satisfied: namex in /usr/local/lib/python3.11/dist-packages (from keras>=3.5.0->tensorflow==2.18.0) (0.1.0)\n",
            "Requirement already satisfied: optree in /usr/local/lib/python3.11/dist-packages (from keras>=3.5.0->tensorflow==2.18.0) (0.16.0)\n",
            "Requirement already satisfied: charset-normalizer<4,>=2 in /usr/local/lib/python3.11/dist-packages (from requests<3,>=2.21.0->tensorflow==2.18.0) (3.4.2)\n",
            "Requirement already satisfied: idna<4,>=2.5 in /usr/local/lib/python3.11/dist-packages (from requests<3,>=2.21.0->tensorflow==2.18.0) (3.10)\n",
            "Requirement already satisfied: urllib3<3,>=1.21.1 in /usr/local/lib/python3.11/dist-packages (from requests<3,>=2.21.0->tensorflow==2.18.0) (2.4.0)\n",
            "Requirement already satisfied: certifi>=2017.4.17 in /usr/local/lib/python3.11/dist-packages (from requests<3,>=2.21.0->tensorflow==2.18.0) (2025.4.26)\n",
            "Requirement already satisfied: markdown>=2.6.8 in /usr/local/lib/python3.11/dist-packages (from tensorboard<2.19,>=2.18->tensorflow==2.18.0) (3.8)\n",
            "Requirement already satisfied: tensorboard-data-server<0.8.0,>=0.7.0 in /usr/local/lib/python3.11/dist-packages (from tensorboard<2.19,>=2.18->tensorflow==2.18.0) (0.7.2)\n",
            "Requirement already satisfied: werkzeug>=1.0.1 in /usr/local/lib/python3.11/dist-packages (from tensorboard<2.19,>=2.18->tensorflow==2.18.0) (3.1.3)\n",
            "Requirement already satisfied: MarkupSafe>=2.1.1 in /usr/local/lib/python3.11/dist-packages (from werkzeug>=1.0.1->tensorboard<2.19,>=2.18->tensorflow==2.18.0) (3.0.2)\n",
            "Requirement already satisfied: markdown-it-py>=2.2.0 in /usr/local/lib/python3.11/dist-packages (from rich->keras>=3.5.0->tensorflow==2.18.0) (3.0.0)\n",
            "Requirement already satisfied: pygments<3.0.0,>=2.13.0 in /usr/local/lib/python3.11/dist-packages (from rich->keras>=3.5.0->tensorflow==2.18.0) (2.19.1)\n",
            "Requirement already satisfied: mdurl~=0.1 in /usr/local/lib/python3.11/dist-packages (from markdown-it-py>=2.2.0->rich->keras>=3.5.0->tensorflow==2.18.0) (0.1.2)\n"
          ]
        }
      ]
    },
    {
      "cell_type": "code",
      "source": [
        "import tensorflow as tf\n",
        "import tensorflow_hub as hub\n",
        "\n",
        "\n",
        "preprocessor = hub.KerasLayer(\"https://tfhub.dev/tensorflow/bert_en_uncased_preprocess/3\")\n",
        "encoder = hub.KerasLayer(\"https://tfhub.dev/tensorflow/bert_en_uncased_L-12_H-768_A-12/3\", trainable=False)\n",
        "\n",
        "\n",
        "def get_bert_embeddings(texts):\n",
        "    text_input = tf.constant(texts)\n",
        "    preprocessed_text = preprocessor(text_input)\n",
        "    outputs = encoder(preprocessed_text)\n",
        "    pooled_output = outputs['pooled_output']\n",
        "    return pooled_output\n"
      ],
      "metadata": {
        "id": "fef-HyZOnauu"
      },
      "execution_count": null,
      "outputs": []
    },
    {
      "cell_type": "code",
      "source": [
        "train_embeddings = get_bert_embeddings(X_train.tolist())\n",
        "test_embeddings = get_bert_embeddings(X_test.tolist())\n",
        "\n",
        "print(train_embeddings.shape)\n",
        "print(type(train_embeddings))\n",
        "print(test_embeddings[0])"
      ],
      "metadata": {
        "colab": {
          "base_uri": "https://localhost:8080/"
        },
        "id": "ytW2K7lLH5uL",
        "outputId": "722722fd-5023-4466-b926-e1f36a03757e"
      },
      "execution_count": null,
      "outputs": [
        {
          "output_type": "stream",
          "name": "stdout",
          "text": [
            "(800, 768)\n",
            "<class 'tensorflow.python.framework.ops.EagerTensor'>\n",
            "tf.Tensor(\n",
            "[-8.28500092e-01 -5.41028321e-01 -8.60333502e-01  6.95926249e-01\n",
            "  6.13716543e-01 -2.66683906e-01  4.78107274e-01  5.46989620e-01\n",
            " -6.51389360e-01 -9.99972880e-01 -2.79742450e-01  8.54702950e-01\n",
            "  9.76797342e-01  3.51474524e-01  7.02075303e-01 -6.29951298e-01\n",
            "  6.77920952e-02 -6.89379036e-01  4.91997898e-01  4.71280158e-01\n",
            "  5.08619130e-01  9.99993443e-01 -2.33929157e-01  5.17639458e-01\n",
            "  5.41282415e-01  8.93631339e-01 -7.21429527e-01  8.65937352e-01\n",
            "  8.77734125e-01  6.07307434e-01 -3.84033293e-01  5.71109116e-01\n",
            " -9.80852902e-01 -3.29713076e-01 -9.07189250e-01 -9.87330437e-01\n",
            "  5.55304766e-01 -5.61674953e-01 -8.37630704e-02 -1.44289061e-01\n",
            " -7.10846066e-01  5.74426055e-01  9.99969304e-01 -1.06053106e-01\n",
            "  5.30742109e-01 -4.32799965e-01 -9.99999523e-01  4.05368835e-01\n",
            " -6.62435949e-01  8.23661149e-01  5.52685380e-01  8.67721438e-01\n",
            "  2.59018868e-01  5.60411036e-01  4.54443306e-01 -3.13509494e-01\n",
            "  9.46815982e-02  3.07023942e-01 -4.58260804e-01 -7.10663795e-01\n",
            " -6.78030252e-01  5.88759780e-01 -8.30908597e-01 -8.06789458e-01\n",
            "  7.52894998e-01  7.88330495e-01 -5.17276525e-01 -5.27521968e-01\n",
            " -2.36643508e-01  1.93619490e-01  7.75101066e-01  3.99254978e-01\n",
            " -3.44853640e-01 -7.66638041e-01  4.68625993e-01  4.75887269e-01\n",
            " -7.60549545e-01  1.00000000e+00 -3.71829033e-01 -9.50698912e-01\n",
            "  8.92900765e-01  8.19944680e-01  7.12197959e-01 -5.01875162e-01\n",
            "  4.52227950e-01 -1.00000000e+00  5.53252101e-01 -3.50975007e-01\n",
            " -9.75245297e-01  4.02243733e-01  4.93752301e-01 -3.43441248e-01\n",
            "  6.71630919e-01  7.52531469e-01 -4.51610535e-01 -6.15082085e-01\n",
            " -2.57443696e-01 -7.92366982e-01 -4.31442469e-01 -5.17868876e-01\n",
            "  4.19085920e-01 -4.48510021e-01 -4.38825041e-01 -6.10597253e-01\n",
            "  5.31451464e-01 -6.33190691e-01  5.26700802e-02  5.17509282e-01\n",
            "  3.02142739e-01  6.24528468e-01  6.57350242e-01 -5.28039515e-01\n",
            "  3.64683032e-01 -8.98088336e-01  6.50981843e-01 -4.31032270e-01\n",
            " -9.70138609e-01 -6.38411701e-01 -9.79946256e-01  4.86592948e-01\n",
            " -1.75118357e-01 -4.63670641e-01  7.73897529e-01 -2.89247930e-01\n",
            "  6.06301248e-01 -3.78111690e-01 -8.40946496e-01 -1.00000000e+00\n",
            " -5.37397444e-01 -6.80366099e-01 -4.27278936e-01 -4.01913762e-01\n",
            " -9.52782035e-01 -9.28568363e-01  6.83301508e-01  8.65216255e-01\n",
            "  3.73059094e-01  9.99830782e-01 -5.39794743e-01  8.78631711e-01\n",
            "  4.58039679e-02 -6.94771409e-01  3.20149481e-01 -6.02578580e-01\n",
            "  7.55377650e-01 -1.99526832e-01 -1.42382994e-01  3.78271252e-01\n",
            " -5.59245467e-01  4.97911990e-01 -7.47773230e-01 -4.83956039e-01\n",
            " -5.62814534e-01 -7.60839701e-01 -5.76231658e-01  7.96681285e-01\n",
            " -4.07359183e-01 -8.65594208e-01 -1.64492011e-01 -4.51446772e-01\n",
            " -4.13302302e-01  7.59707749e-01  6.86681867e-01  4.91520464e-01\n",
            " -4.02659416e-01  5.64065635e-01  1.28088802e-01  6.79063380e-01\n",
            " -6.86614513e-01 -3.09359908e-01  5.36710978e-01 -5.48003793e-01\n",
            " -8.62393618e-01 -9.53733206e-01 -4.98861849e-01  5.29349089e-01\n",
            "  9.56453383e-01  6.86285436e-01  4.47755605e-01  6.68604374e-01\n",
            " -5.85881770e-01  6.70390666e-01 -9.50444043e-01  9.60223079e-01\n",
            " -1.12587295e-01  4.73873913e-01 -4.38301802e-01  6.14102483e-01\n",
            " -6.14869356e-01 -9.01333019e-02  7.68010199e-01 -4.65420961e-01\n",
            " -6.50009036e-01 -3.11007828e-01 -6.85108423e-01 -5.56836426e-01\n",
            " -7.30936289e-01  3.26478302e-01 -3.80958468e-01 -4.61151123e-01\n",
            " -4.10775542e-01  7.78707087e-01  9.06920493e-01  4.14490104e-01\n",
            "  1.81265086e-01  5.71337640e-01 -7.07873940e-01 -4.91916627e-01\n",
            "  4.12980646e-01  3.94926459e-01  2.62846559e-01  9.79952753e-01\n",
            " -7.82602251e-01 -2.57752746e-01 -7.03316689e-01 -9.50627446e-01\n",
            "  3.13358635e-01 -6.97073996e-01 -4.35899526e-01 -7.62682438e-01\n",
            "  6.65312171e-01 -3.57194781e-01  2.50181586e-01  4.19532537e-01\n",
            " -4.99779463e-01 -6.47818208e-01  1.96083635e-01 -4.80290562e-01\n",
            "  5.00319183e-01 -4.38225269e-01  9.42934453e-01  9.11840081e-01\n",
            " -7.36012876e-01 -9.62685794e-02  9.60932136e-01 -9.05584574e-01\n",
            " -6.58267081e-01  3.64284962e-01 -3.08638275e-01  7.09702492e-01\n",
            " -6.68616116e-01  9.80892420e-01  7.92545915e-01  3.57873142e-01\n",
            " -7.77887046e-01 -8.53962004e-01 -5.34598470e-01 -5.80889821e-01\n",
            " -3.37805897e-01 -1.99611951e-03  7.82132030e-01  7.33208776e-01\n",
            "  4.71193045e-01  3.99155766e-01 -5.39591372e-01  8.55215311e-01\n",
            " -9.14247870e-01 -9.22912538e-01 -8.34271193e-01 -2.95539141e-01\n",
            " -9.81226385e-01  7.60492206e-01  5.11478007e-01  4.46819365e-01\n",
            " -5.11261106e-01 -6.32435024e-01 -8.76232982e-01  4.41020668e-01\n",
            "  2.89617240e-01  9.19620693e-01 -5.22198200e-01 -6.63367450e-01\n",
            " -6.20185196e-01 -8.73011231e-01  1.43307477e-01 -2.39074722e-01\n",
            " -2.10867673e-01  1.24087840e-01 -7.50785887e-01  6.24727309e-01\n",
            "  6.42920375e-01  5.99484980e-01 -8.58102798e-01  9.80109394e-01\n",
            "  1.00000000e+00  9.49506998e-01  6.94312692e-01  5.21404505e-01\n",
            " -9.99897718e-01 -6.60775244e-01  9.99993205e-01 -9.79598880e-01\n",
            " -1.00000000e+00 -8.06877911e-01 -5.10607541e-01  4.03965354e-01\n",
            " -1.00000000e+00 -5.38532734e-01 -8.58321562e-02 -7.54988194e-01\n",
            "  7.08781660e-01  9.55333531e-01  7.67621577e-01 -1.00000000e+00\n",
            "  7.55052865e-01  8.39685023e-01 -7.76351631e-01  7.57927537e-01\n",
            " -4.30065334e-01  9.49883759e-01  3.53114635e-01  7.04187691e-01\n",
            " -3.93446177e-01  5.60275793e-01 -8.66940737e-01 -7.64813840e-01\n",
            " -5.62715292e-01 -6.83877230e-01  9.98191118e-01  3.47327381e-01\n",
            " -8.12931716e-01 -6.72162890e-01  3.28487635e-01 -2.60303825e-01\n",
            " -2.73467064e-01 -9.11339641e-01 -5.09756267e-01  3.57714087e-01\n",
            "  5.24307489e-01  1.84470087e-01  4.77156341e-01 -3.89390707e-01\n",
            "  5.89021027e-01  3.53714168e-01  1.01447962e-02  7.26791322e-01\n",
            " -9.51091588e-01 -5.51197007e-02 -5.05419910e-01  2.18070209e-01\n",
            " -6.69502258e-01 -9.68759179e-01  9.17569935e-01 -5.05153835e-01\n",
            "  8.11559856e-01  1.00000000e+00  6.72402024e-01 -5.90355635e-01\n",
            "  6.22909963e-01  2.11948901e-01 -7.45228946e-01  1.00000000e+00\n",
            "  8.24777126e-01 -9.67265427e-01 -7.42275357e-01  7.19717026e-01\n",
            " -6.74938977e-01 -7.10185885e-01  9.99365270e-01 -4.12963659e-01\n",
            " -4.55399960e-01 -2.59235889e-01  9.76828754e-01 -9.84615445e-01\n",
            "  9.97027040e-01 -7.26611912e-01 -9.15734172e-01  8.93064082e-01\n",
            "  7.98716784e-01 -3.77114296e-01 -6.50400698e-01  3.24876219e-01\n",
            " -7.43566096e-01  4.73513603e-01 -6.48596287e-01  5.28516710e-01\n",
            "  3.62947255e-01 -1.81530252e-01  7.41857767e-01 -3.00631434e-01\n",
            " -6.73401833e-01  5.19175887e-01 -7.86395252e-01 -3.88773441e-01\n",
            "  9.13510263e-01  5.08690596e-01 -4.22049522e-01  1.67991266e-01\n",
            " -4.38394904e-01 -6.43025339e-01 -9.34006453e-01  5.35240948e-01\n",
            "  1.00000000e+00 -3.50286484e-01  5.63794076e-01 -3.29633862e-01\n",
            " -2.05818132e-01  1.58534110e-01  6.87476575e-01  6.22234821e-01\n",
            " -3.75028372e-01 -6.08737767e-01  5.94231129e-01 -4.51483250e-01\n",
            " -9.84768867e-01  3.80886018e-01  2.91934073e-01 -4.73419607e-01\n",
            "  9.99977231e-01  2.10328668e-01  3.33551466e-01  4.27642882e-01\n",
            "  9.10454512e-01  2.96168000e-01  4.83921617e-02  7.82497406e-01\n",
            "  9.54901576e-01 -5.37482023e-01  7.98827648e-01  3.47456485e-01\n",
            " -8.04621816e-01 -5.16400397e-01 -7.17929065e-01  1.56502560e-01\n",
            " -9.06167150e-01 -2.13646710e-01 -8.63128126e-01  9.27480102e-01\n",
            "  9.14468825e-01  3.39019030e-01  4.47405398e-01  6.04071259e-01\n",
            "  1.00000000e+00 -9.14173961e-01  4.95821208e-01  6.59713089e-01\n",
            "  2.10184053e-01 -9.99786079e-01 -6.06292725e-01 -4.63047445e-01\n",
            " -3.62605035e-01 -7.09633052e-01 -3.79275352e-01  3.36442769e-01\n",
            " -9.32103693e-01  7.43873477e-01  4.84906882e-01 -7.25397825e-01\n",
            " -9.72319543e-01 -4.94566351e-01  4.99789506e-01  3.52533191e-01\n",
            " -9.82191384e-01 -5.64681172e-01 -5.90199292e-01  3.96044552e-01\n",
            " -5.48153579e-01 -8.12099099e-01 -1.95212647e-01 -5.14434397e-01\n",
            "  5.21386862e-01 -3.30010682e-01  6.67931497e-01  8.48753572e-01\n",
            "  7.16557443e-01 -7.47835577e-01 -5.70466280e-01 -3.96210343e-01\n",
            " -7.19589651e-01  3.72384876e-01 -7.91426241e-01 -7.79469848e-01\n",
            " -3.87044728e-01  1.00000000e+00 -4.64446485e-01  8.48290503e-01\n",
            "  4.16836888e-01  3.02144259e-01 -3.80131751e-01  5.03175795e-01\n",
            "  9.42740500e-01  4.90274847e-01 -6.66688561e-01 -7.93614745e-01\n",
            "  6.27286911e-01 -5.59420943e-01  6.52968705e-01  4.66970086e-01\n",
            "  7.14097679e-01  6.06483877e-01  8.14508677e-01  4.08295453e-01\n",
            " -2.64610380e-01  2.72566438e-01  9.69991565e-01 -4.23385292e-01\n",
            " -1.81930095e-01 -3.31901342e-01 -2.96241939e-01 -5.43734133e-01\n",
            "  4.41277176e-01  1.00000000e+00  4.59995449e-01  6.09614909e-01\n",
            " -9.82155025e-01 -8.00050795e-01 -8.13431382e-01  1.00000000e+00\n",
            "  7.82999277e-01 -3.21237981e-01  6.80899382e-01  4.53058004e-01\n",
            " -3.94658417e-01  4.18629348e-02 -3.86005729e-01 -4.83515918e-01\n",
            "  4.15577829e-01  2.68710881e-01  9.23563242e-01 -5.18241525e-01\n",
            " -9.28123891e-01 -6.41841710e-01  4.57207799e-01 -8.95732641e-01\n",
            "  9.99967158e-01 -6.87500656e-01 -4.26992863e-01 -3.94447148e-01\n",
            " -3.65528315e-01 -7.90158033e-01  6.52009621e-05 -9.24673438e-01\n",
            " -5.17600596e-01  2.71367073e-01  8.73776913e-01  4.25716519e-01\n",
            " -7.54091203e-01 -8.60176921e-01  7.02700734e-01  7.24968791e-01\n",
            " -7.98146367e-01 -7.96907961e-01  9.30007160e-01 -9.14949536e-01\n",
            "  5.25208056e-01  1.00000000e+00  4.89948362e-01  1.19761385e-01\n",
            "  3.01446497e-01 -2.34913573e-01  4.54609245e-01 -2.89135665e-01\n",
            "  5.47914505e-01 -8.49727035e-01 -5.08707821e-01 -2.86294758e-01\n",
            "  4.68997985e-01 -2.81791151e-01 -6.51870668e-01  5.27797878e-01\n",
            "  3.64555717e-01 -7.01616585e-01 -6.99947596e-01 -2.73991823e-01\n",
            "  5.81884801e-01  7.42570519e-01 -4.27062005e-01 -3.24895114e-01\n",
            "  3.67098749e-01 -4.04867470e-01 -8.07146728e-01 -5.64199328e-01\n",
            " -5.27373374e-01 -9.99993563e-01  5.95692933e-01 -1.00000000e+00\n",
            "  5.83776891e-01  1.29047543e-01 -4.67342705e-01  7.49586463e-01\n",
            "  6.27554119e-01  5.53986371e-01 -3.21808159e-01 -7.98041403e-01\n",
            "  4.10910487e-01  6.57218575e-01 -4.17337418e-01 -1.75579920e-01\n",
            " -4.52505708e-01  4.71127599e-01 -2.60023117e-01  1.65544644e-01\n",
            " -6.17377579e-01  6.82486951e-01 -2.30017647e-01  1.00000000e+00\n",
            "  3.06594014e-01 -5.94049156e-01 -6.55715406e-01  5.58289945e-01\n",
            " -4.67618674e-01  1.00000000e+00 -4.69790250e-01 -9.35132444e-01\n",
            "  3.70441794e-01 -7.12927222e-01 -7.03921258e-01  5.89495420e-01\n",
            "  3.83151770e-01 -6.84826136e-01 -8.61037016e-01  6.52462184e-01\n",
            "  4.32079643e-01 -6.99188352e-01  5.83822131e-01 -5.72612405e-01\n",
            " -4.54341888e-01  3.67748141e-01  8.17420602e-01  9.72302735e-01\n",
            "  5.29054642e-01  6.16070569e-01 -2.52601475e-01 -4.53113973e-01\n",
            "  8.88614655e-01  5.60426354e-01 -1.04743436e-01  2.33702704e-01\n",
            "  1.00000000e+00  5.01341939e-01 -8.42777371e-01 -1.61287457e-01\n",
            " -8.64243627e-01 -5.23044109e-01 -8.38657200e-01  5.00048220e-01\n",
            "  4.29397941e-01  8.14867914e-01 -4.61584181e-01  8.58866692e-01\n",
            " -7.31368899e-01  2.17436507e-01 -2.35852912e-01 -4.39461410e-01\n",
            "  5.36444902e-01 -7.93603599e-01 -9.74634945e-01 -9.69052672e-01\n",
            "  6.93947554e-01 -5.38112998e-01 -3.15437138e-01  4.08082902e-01\n",
            "  4.05991763e-01  5.69251060e-01  6.07943773e-01 -1.00000000e+00\n",
            "  9.08025861e-01  5.50535917e-01  8.36003900e-01  8.82911980e-01\n",
            "  6.11349285e-01  6.29347384e-01  4.71854985e-01 -9.54903960e-01\n",
            " -3.99648011e-01 -4.31633562e-01 -4.95970130e-01  4.53110158e-01\n",
            "  7.08983123e-01  7.51763403e-01  4.92906272e-01 -5.58552504e-01\n",
            " -5.63983917e-01 -5.26087403e-01 -8.28607142e-01 -9.82165456e-01\n",
            "  6.64712489e-01 -5.49128532e-01 -5.73763132e-01  9.29651737e-01\n",
            " -2.23922044e-01 -2.68186569e-01  3.57194319e-02 -9.13820446e-01\n",
            "  5.45534670e-01  5.15287757e-01 -5.82522154e-02  2.73618221e-01\n",
            "  6.04520321e-01  7.31216967e-01  7.96256721e-01  9.81703699e-01\n",
            " -8.16213727e-01  6.51119649e-01 -6.13543212e-01  4.54212785e-01\n",
            "  9.30708349e-01 -9.17817533e-01  4.46764588e-01  5.39204955e-01\n",
            " -4.72701997e-01  4.86589342e-01 -5.15859842e-01 -6.72854662e-01\n",
            "  8.34009647e-01 -5.56784451e-01  3.50693673e-01 -5.58500409e-01\n",
            " -1.64980128e-01 -4.40685153e-01 -4.10391420e-01 -5.18940270e-01\n",
            " -5.57161987e-01  6.93286061e-01  1.47074148e-01  8.26656759e-01\n",
            "  7.90971398e-01 -2.81272620e-01 -4.92972314e-01 -3.32473099e-01\n",
            " -6.49899065e-01 -8.61836851e-01  6.69492662e-01 -1.47093326e-01\n",
            " -3.02432239e-01  5.62178314e-01  1.18720181e-01  9.51918781e-01\n",
            "  2.89525926e-01 -4.48455215e-01 -4.36599463e-01 -6.95582569e-01\n",
            "  7.01820850e-01 -6.77953780e-01 -6.08602345e-01 -5.56913018e-01\n",
            "  6.12510502e-01  4.31610972e-01  9.99991179e-01 -6.40632033e-01\n",
            " -7.81255662e-01 -5.71347713e-01 -4.75260854e-01  6.46983325e-01\n",
            " -3.94597739e-01 -1.00000000e+00  2.97664762e-01 -7.21788704e-01\n",
            "  7.09383488e-01 -1.29496560e-01  6.72428846e-01 -7.38110006e-01\n",
            " -8.39222193e-01 -4.91578072e-01  7.69942284e-01  7.43608117e-01\n",
            " -5.00154614e-01 -4.99964833e-01  7.15817153e-01 -3.33143413e-01\n",
            "  8.99453461e-01  7.41012931e-01 -7.33292520e-01 -6.64618388e-02\n",
            "  7.39042401e-01 -8.60502839e-01 -6.59235716e-01  6.32593393e-01], shape=(768,), dtype=float32)\n"
          ]
        }
      ]
    },
    {
      "cell_type": "code",
      "source": [
        "from sklearn.ensemble import RandomForestClassifier\n",
        "from sklearn.metrics import accuracy_score, confusion_matrix\n",
        "rf_model = RandomForestClassifier()\n",
        "rf_model.fit(train_embeddings, y_train)\n",
        "\n",
        "# Predict on the test set\n",
        "y_pred = rf_model.predict(test_embeddings)\n",
        "\n",
        "print (accuracy_score(y_test,y_pred))\n",
        "print (confusion_matrix(y_test,y_pred))"
      ],
      "metadata": {
        "id": "uWOktVOoTQJ4",
        "colab": {
          "base_uri": "https://localhost:8080/"
        },
        "outputId": "609159e1-aa1a-4ef8-f37a-53a822e028f5"
      },
      "execution_count": null,
      "outputs": [
        {
          "output_type": "stream",
          "name": "stdout",
          "text": [
            "0.96\n",
            "[[165   1]\n",
            " [  7  27]]\n"
          ]
        }
      ]
    },
    {
      "cell_type": "markdown",
      "source": [
        "Comparison\n",
        "In conclusion, Our implementation of BERT embeddings with a Random Forest classifier achieved a strong accuracy of 96% on the Ling-Spam dataset. The referenced paper, which also evaluates Random Forest as part of its baseline comparisons, reports a significantly higher 99.14% accuracy using a hybrid GWO-BERT model that integrates BERT, LSTM, and the Grey Wolf Optimizer for optimized feature selection. While our approach demonstrates the effectiveness of combining BERT with classical machine learning, the paper shows that performance can be further improved by incorporating deep learning and optimization techniques.\n"
      ],
      "metadata": {
        "id": "R22FbRIwAlvJ"
      }
    }
  ]
}